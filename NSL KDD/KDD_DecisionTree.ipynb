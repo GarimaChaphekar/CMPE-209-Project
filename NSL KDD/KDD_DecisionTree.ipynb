{
 "cells": [
  {
   "cell_type": "code",
   "execution_count": 1,
   "metadata": {},
   "outputs": [],
   "source": [
    "import pandas as pd\n",
    "import numpy as np\n",
    "from sklearn.tree import DecisionTreeClassifier\n",
    "from sklearn.model_selection import train_test_split \n",
    "from sklearn import metrics \n",
    "#from sklearn import preprocessing\n",
    "from sklearn.preprocessing import LabelEncoder\n",
    "import seaborn as sns\n",
    "import matplotlib as plt"
   ]
  },
  {
   "cell_type": "code",
   "execution_count": 2,
   "metadata": {},
   "outputs": [
    {
     "data": {
      "text/plain": [
       "0.9407038333782206"
      ]
     },
     "execution_count": 2,
     "metadata": {},
     "output_type": "execute_result"
    }
   ],
   "source": [
    "KDDTrain = pd.read_csv('C:/Users/Harshitha Rao/sjsu_ns_pjt/KDDTrain+.csv')\n",
    "KDDTest = pd.read_csv('C:/Users/Harshitha Rao/sjsu_ns_pjt/KDDTest+.csv')\n",
    "frames = [KDDTrain, KDDTest] \n",
    "KDD = pd.concat(frames)\n",
    "mapping = {'ipsweep': 'Probe','satan': 'Probe','nmap': 'Probe','portsweep': 'Probe','saint': 'Probe','mscan': 'Probe',\n",
    "        'teardrop': 'DoS','pod': 'DoS','land': 'DoS','back': 'DoS','neptune': 'DoS','smurf': 'DoS','mailbomb': 'DoS',\n",
    "        'udpstorm': 'DoS','apache2': 'DoS','processtable': 'DoS',\n",
    "        'perl': 'U2R','loadmodule': 'U2R','rootkit': 'U2R','buffer_overflow': 'U2R','xterm': 'U2R','ps': 'U2R',\n",
    "        'sqlattack': 'U2R','httptunnel': 'U2R',\n",
    "        'ftp_write': 'R2L','phf': 'R2L','guess_passwd': 'R2L','warezmaster': 'R2L','warezclient': 'R2L','imap': 'R2L',\n",
    "        'spy': 'R2L','multihop': 'R2L','named': 'R2L','snmpguess': 'R2L','worm': 'R2L','snmpgetattack': 'R2L',\n",
    "        'xsnoop': 'R2L','xlock': 'R2L','sendmail': 'R2L',\n",
    "        'normal': 'Normal'}\n",
    "\n",
    "KDD['attack_class'] = KDD['Label'].apply(lambda v: mapping[v])\n",
    "KDD.drop(['Label'],axis=1,inplace=True)\n",
    "        \n",
    "\n",
    "categorical_vars = ['Protocol Type', 'Service' , 'Flag']                      \n",
    "KDDTrain_as = pd.get_dummies(KDD, columns= categorical_vars)\n",
    "\n",
    "\n",
    "label_encoder=LabelEncoder()\n",
    "\n",
    "KDDTrain_as['attack_class']= label_encoder.fit_transform(KDDTrain_as['attack_class'])             # encoding the values\n",
    "\n",
    "\n",
    "\n",
    "\n",
    "features = KDDTrain_as.drop(['attack_class'], axis=1)                                  # determine the feature and label                    \n",
    "label = KDDTrain_as['attack_class']\n",
    "\n",
    "x_train,x_test,y_train, y_test = train_test_split(features, label, test_size=0.3, random_state=42)\n",
    "\n",
    "\n",
    "model = DecisionTreeClassifier(max_depth=3)                   # decision tree\n",
    "model = model.fit(x_train,y_train)\n",
    "predicts = model.predict(x_test) \n",
    "acc=metrics.accuracy_score(y_test,predicts)                   #accuracy\n",
    "acc"
   ]
  },
  {
   "cell_type": "code",
   "execution_count": 3,
   "metadata": {},
   "outputs": [
    {
     "data": {
      "text/plain": [
       "<matplotlib.axes._subplots.AxesSubplot at 0x1a3f20e0cc8>"
      ]
     },
     "execution_count": 3,
     "metadata": {},
     "output_type": "execute_result"
    },
    {
     "data": {
      "image/png": "[encoded data removed]",
      "text/plain": [
       "<Figure size 432x288 with 1 Axes>"
      ]
     },
     "metadata": {
      "needs_background": "light"
     },
     "output_type": "display_data"
    }
   ],
   "source": [
    "sns.countplot(x = 'attack_class', data = KDD)"
   ]
  },
  {
   "cell_type": "code",
   "execution_count": 4,
   "metadata": {
    "scrolled": true
   },
   "outputs": [
    {
     "data": {
      "text/plain": [
       "<matplotlib.axes._subplots.AxesSubplot at 0x1a383558108>"
      ]
     },
     "execution_count": 4,
     "metadata": {},
     "output_type": "execute_result"
    },
    {
     "data": {
      "image/png": "[encoded data removed]",
      "text/plain": [
       "<Figure size 432x288 with 1 Axes>"
      ]
     },
     "metadata": {
      "needs_background": "light"
     },
     "output_type": "display_data"
    }
   ],
   "source": [
    "sns.countplot(x = 'attack_class', data = KDDTrain_as)"
   ]
  },
  {
   "cell_type": "code",
   "execution_count": null,
   "metadata": {},
   "outputs": [],
   "source": []
  },
  {
   "cell_type": "code",
   "execution_count": 94,
   "metadata": {},
   "outputs": [
    {
     "data": {
      "text/plain": [
       "array(['neptune', 'normal', 'saint', 'mscan', 'guess_passwd', 'smurf',\n",
       "       'apache2', 'satan', 'buffer_overflow', 'back', 'warezmaster',\n",
       "       'snmpgetattack', 'processtable', 'pod', 'httptunnel', 'nmap', 'ps',\n",
       "       'snmpguess', 'ipsweep', 'mailbomb', 'portsweep', 'multihop',\n",
       "       'named', 'sendmail', 'loadmodule', 'xterm', 'worm', 'teardrop',\n",
       "       'rootkit', 'xlock', 'perl', 'land', 'xsnoop', 'sqlattack',\n",
       "       'ftp_write', 'imap', 'udpstorm', 'phf'], dtype=object)"
      ]
     },
     "execution_count": 94,
     "metadata": {},
     "output_type": "execute_result"
    }
   ],
   "source": [
    "KDDTrain['Label'].unique()"
   ]
  },
  {
   "cell_type": "code",
   "execution_count": 69,
   "metadata": {},
   "outputs": [
    {
     "data": {
      "text/plain": [
       "array(['normal', 'neptune', 'warezclient', 'ipsweep', 'portsweep',\n",
       "       'teardrop', 'nmap', 'satan', 'smurf', 'pod', 'back',\n",
       "       'guess_passwd', 'ftp_write', 'multihop', 'rootkit',\n",
       "       'buffer_overflow', 'imap', 'warezmaster', 'phf', 'land',\n",
       "       'loadmodule', 'spy', 'perl'], dtype=object)"
      ]
     },
     "execution_count": 69,
     "metadata": {},
     "output_type": "execute_result"
    }
   ],
   "source": [
    "KDDTest['Label'].unique()"
   ]
  },
  {
   "cell_type": "code",
   "execution_count": 83,
   "metadata": {},
   "outputs": [
    {
     "name": "stdout",
     "output_type": "stream",
     "text": [
      "[[14854    84   386   649     0]\n",
      " [   99 22429   376   324     0]\n",
      " [  205    64  3831    89     0]\n",
      " [    0   103   195   800     0]\n",
      " [    0     1    35    32     0]]\n",
      "              precision    recall  f1-score   support\n",
      "\n",
      "           0       0.98      0.93      0.95     15973\n",
      "           1       0.99      0.97      0.98     23228\n",
      "           2       0.79      0.91      0.85      4189\n",
      "           3       0.42      0.73      0.53      1098\n",
      "           4       0.00      0.00      0.00        68\n",
      "\n",
      "    accuracy                           0.94     44556\n",
      "   macro avg       0.64      0.71      0.66     44556\n",
      "weighted avg       0.95      0.94      0.94     44556\n",
      "\n"
     ]
    }
   ],
   "source": [
    "print(metrics.confusion_matrix(y_test,predicts))  \n",
    "print(metrics.classification_report(y_test,predicts))"
   ]
  },
  {
   "cell_type": "code",
   "execution_count": null,
   "metadata": {},
   "outputs": [],
   "source": []
  },
  {
   "cell_type": "code",
   "execution_count": null,
   "metadata": {},
   "outputs": [],
   "source": []
  },
  {
   "cell_type": "code",
   "execution_count": null,
   "metadata": {},
   "outputs": [],
   "source": []
  }
 ],
 "metadata": {
  "kernelspec": {
   "display_name": "Python 3",
   "language": "python",
   "name": "python3"
  },
  "language_info": {
   "codemirror_mode": {
    "name": "ipython",
    "version": 3
   },
   "file_extension": ".py",
   "mimetype": "text/x-python",
   "name": "python",
   "nbconvert_exporter": "python",
   "pygments_lexer": "ipython3",
   "version": "3.7.4"
  }
 },
 "nbformat": 4,
 "nbformat_minor": 2
}
