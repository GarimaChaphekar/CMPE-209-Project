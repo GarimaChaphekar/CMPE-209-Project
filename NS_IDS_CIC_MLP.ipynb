{
 "cells": [
  {
   "cell_type": "code",
   "execution_count": 4,
   "metadata": {},
   "outputs": [],
   "source": [
    "#Importing essential libraries\n",
    "from sklearn.datasets import fetch_openml\n",
    "\n",
    "import numpy as np\n",
    "import pandas as pd\n",
    "import matplotlib.pyplot as plt\n",
    "%matplotlib inline\n",
    "import os \n",
    "import cv2\n",
    "import random \n",
    "import math\n",
    "\n",
    "from datetime import datetime\n",
    "\n",
    "from sklearn import metrics\n",
    "from sklearn.utils import shuffle\n",
    "from sklearn.metrics import accuracy_score \n",
    "from sklearn.metrics import classification_report\n",
    "from sklearn.metrics import confusion_matrix\n",
    "\n",
    "from sklearn.preprocessing import StandardScaler\n",
    "from sklearn.model_selection import train_test_split\n",
    "from sklearn.model_selection import cross_val_score\n",
    "from sklearn.model_selection import cross_val_predict\n",
    "from sklearn.model_selection import GridSearchCV, RandomizedSearchCV\n",
    "from sklearn.model_selection import KFold\n",
    "from sklearn.model_selection import StratifiedKFold\n",
    "\n",
    "import tensorflow as tf\n",
    "from tensorflow import keras\n",
    "import pickle"
   ]
  },
  {
   "cell_type": "code",
   "execution_count": 5,
   "metadata": {},
   "outputs": [],
   "source": [
    "pickle_in = open(\"X_train_cic.pickle\",\"rb\")\n",
    "X_train = pickle.load(pickle_in)\n",
    "\n",
    "pickle_in = open(\"y_train_cic.pickle\",\"rb\")\n",
    "y_train = pickle.load(pickle_in)\n",
    "\n",
    "pickle_in = open(\"X_test_cic.pickle\",\"rb\")\n",
    "X_test = pickle.load(pickle_in)\n",
    "\n",
    "pickle_in = open(\"y_test_cic.pickle\",\"rb\")\n",
    "y_test = pickle.load(pickle_in)"
   ]
  },
  {
   "cell_type": "code",
   "execution_count": 6,
   "metadata": {},
   "outputs": [
    {
     "name": "stdout",
     "output_type": "stream",
     "text": [
      "(1398983, 70)\n",
      "(1398983,)\n",
      "(749456, 70)\n",
      "(749456,)\n"
     ]
    }
   ],
   "source": [
    "print(X_train.shape)\n",
    "print(y_train.shape)\n",
    "print(X_test.shape)\n",
    "print(y_test.shape)"
   ]
  },
  {
   "cell_type": "code",
   "execution_count": 30,
   "metadata": {},
   "outputs": [],
   "source": [
    "array_y_train=np.array(y_train)\n"
   ]
  },
  {
   "cell_type": "code",
   "execution_count": 43,
   "metadata": {},
   "outputs": [
    {
     "data": {
      "text/plain": [
       "array([0, 1, 2, 3, 4, 5, 6, 7], dtype=uint32)"
      ]
     },
     "execution_count": 43,
     "metadata": {},
     "output_type": "execute_result"
    }
   ],
   "source": [
    "np.unique(array_y_train)"
   ]
  },
  {
   "cell_type": "code",
   "execution_count": 7,
   "metadata": {},
   "outputs": [
    {
     "name": "stdout",
     "output_type": "stream",
     "text": [
      "(1049237, 70) (349746, 70)\n",
      "(1049237,) (349746,)\n"
     ]
    }
   ],
   "source": [
    "#Spliting the training data into validation set (20%)\n",
    "X_train, X_val, y_train, y_val  = train_test_split(X_train, y_train, test_size = 0.25, random_state = 42)\n",
    "print(X_train.shape, X_val.shape)\n",
    "print(y_train.shape, y_val.shape)"
   ]
  },
  {
   "cell_type": "code",
   "execution_count": 8,
   "metadata": {},
   "outputs": [
    {
     "name": "stdout",
     "output_type": "stream",
     "text": [
      "Epoch 1/50\n",
      "8198/8198 [==============================] - 11s 1ms/step - loss: 0.3692 - accuracy: 0.8687 - val_loss: 0.3285 - val_accuracy: 0.8739\n",
      "Epoch 2/50\n",
      "8198/8198 [==============================] - 11s 1ms/step - loss: 0.3303 - accuracy: 0.8816 - val_loss: 0.3421 - val_accuracy: 0.8753\n",
      "Epoch 3/50\n",
      "8198/8198 [==============================] - 11s 1ms/step - loss: 0.3266 - accuracy: 0.8828 - val_loss: 0.2804 - val_accuracy: 0.8858\n",
      "Epoch 4/50\n",
      "8198/8198 [==============================] - 10s 1ms/step - loss: 0.3118 - accuracy: 0.8862 - val_loss: 0.3117 - val_accuracy: 0.8838\n",
      "Epoch 5/50\n",
      "8198/8198 [==============================] - 11s 1ms/step - loss: 0.3563 - accuracy: 0.8784 - val_loss: 0.3702 - val_accuracy: 0.8748\n",
      "Epoch 6/50\n",
      "8198/8198 [==============================] - 11s 1ms/step - loss: 0.3458 - accuracy: 0.8789 - val_loss: 0.3395 - val_accuracy: 0.8795\n",
      "Epoch 7/50\n",
      "8198/8198 [==============================] - 10s 1ms/step - loss: 0.3373 - accuracy: 0.8760 - val_loss: 0.3118 - val_accuracy: 0.8820\n",
      "Epoch 8/50\n",
      "8198/8198 [==============================] - 10s 1ms/step - loss: 0.3386 - accuracy: 0.8869 - val_loss: 0.3509 - val_accuracy: 0.8894\n",
      "Epoch 9/50\n",
      "8198/8198 [==============================] - 10s 1ms/step - loss: 0.3255 - accuracy: 0.8887 - val_loss: 0.3295 - val_accuracy: 0.8836\n",
      "Epoch 10/50\n",
      "8198/8198 [==============================] - 10s 1ms/step - loss: 0.3399 - accuracy: 0.8873 - val_loss: 0.3231 - val_accuracy: 0.8952\n",
      "Epoch 11/50\n",
      "8198/8198 [==============================] - 10s 1ms/step - loss: 0.3162 - accuracy: 0.8900 - val_loss: 0.3117 - val_accuracy: 0.8856\n",
      "Epoch 12/50\n",
      "8198/8198 [==============================] - 10s 1ms/step - loss: 0.3113 - accuracy: 0.8852 - val_loss: 0.3158 - val_accuracy: 0.8844\n",
      "Epoch 13/50\n",
      "8198/8198 [==============================] - 10s 1ms/step - loss: 0.3157 - accuracy: 0.8891 - val_loss: 0.3144 - val_accuracy: 0.8890\n",
      "Epoch 14/50\n",
      "8198/8198 [==============================] - 10s 1ms/step - loss: 0.3360 - accuracy: 0.8867 - val_loss: 0.3169 - val_accuracy: 0.8932\n",
      "Epoch 15/50\n",
      "8198/8198 [==============================] - 10s 1ms/step - loss: 0.3122 - accuracy: 0.8910 - val_loss: 0.2992 - val_accuracy: 0.8842\n",
      "Epoch 16/50\n",
      "8198/8198 [==============================] - 11s 1ms/step - loss: 0.3256 - accuracy: 0.8875 - val_loss: 0.3036 - val_accuracy: 0.8898\n",
      "Epoch 17/50\n",
      "8198/8198 [==============================] - 11s 1ms/step - loss: 0.3154 - accuracy: 0.8932 - val_loss: 0.3030 - val_accuracy: 0.8997\n",
      "Epoch 18/50\n",
      "8198/8198 [==============================] - 11s 1ms/step - loss: 0.3256 - accuracy: 0.8899 - val_loss: 0.3379 - val_accuracy: 0.8752\n",
      "Epoch 19/50\n",
      "8198/8198 [==============================] - 11s 1ms/step - loss: 0.3524 - accuracy: 0.8739 - val_loss: 0.3870 - val_accuracy: 0.8761\n",
      "Epoch 20/50\n",
      "8198/8198 [==============================] - 11s 1ms/step - loss: 0.3485 - accuracy: 0.8873 - val_loss: 0.3919 - val_accuracy: 0.8686\n",
      "Epoch 21/50\n",
      "8198/8198 [==============================] - 11s 1ms/step - loss: 0.3297 - accuracy: 0.8868 - val_loss: 0.3074 - val_accuracy: 0.8875\n",
      "Epoch 22/50\n",
      "8198/8198 [==============================] - 11s 1ms/step - loss: 0.3529 - accuracy: 0.8863 - val_loss: 0.3108 - val_accuracy: 0.8931\n",
      "Epoch 23/50\n",
      "8198/8198 [==============================] - 12s 2ms/step - loss: 0.3434 - accuracy: 0.8842 - val_loss: 0.4041 - val_accuracy: 0.8711\n",
      "Epoch 24/50\n",
      "8198/8198 [==============================] - 13s 2ms/step - loss: 0.3693 - accuracy: 0.8732 - val_loss: 0.3310 - val_accuracy: 0.8977\n",
      "Epoch 25/50\n",
      "8198/8198 [==============================] - 12s 1ms/step - loss: 0.3271 - accuracy: 0.8887 - val_loss: 0.3266 - val_accuracy: 0.8994\n",
      "Epoch 26/50\n",
      "8198/8198 [==============================] - 11s 1ms/step - loss: 0.3155 - accuracy: 0.8960 - val_loss: 0.2828 - val_accuracy: 0.9009\n",
      "Epoch 27/50\n",
      "8198/8198 [==============================] - 11s 1ms/step - loss: 0.3311 - accuracy: 0.8935 - val_loss: 0.3307 - val_accuracy: 0.8925\n",
      "Epoch 28/50\n",
      "8198/8198 [==============================] - 11s 1ms/step - loss: 0.3640 - accuracy: 0.8864 - val_loss: 0.3592 - val_accuracy: 0.8865\n",
      "Epoch 29/50\n",
      "8198/8198 [==============================] - 11s 1ms/step - loss: 0.3734 - accuracy: 0.8772 - val_loss: 0.3873 - val_accuracy: 0.8727\n",
      "Epoch 30/50\n",
      "8198/8198 [==============================] - 11s 1ms/step - loss: 0.3731 - accuracy: 0.8736 - val_loss: 0.3604 - val_accuracy: 0.8811\n",
      "Epoch 31/50\n",
      "8198/8198 [==============================] - 11s 1ms/step - loss: 0.3416 - accuracy: 0.8747 - val_loss: 0.3021 - val_accuracy: 0.8780\n",
      "Epoch 32/50\n",
      "8198/8198 [==============================] - 12s 1ms/step - loss: 0.3184 - accuracy: 0.8672 - val_loss: 0.3095 - val_accuracy: 0.8708\n",
      "Epoch 33/50\n",
      "8198/8198 [==============================] - 11s 1ms/step - loss: 0.3357 - accuracy: 0.8805 - val_loss: 0.3719 - val_accuracy: 0.8831\n",
      "Epoch 34/50\n",
      "8198/8198 [==============================] - 12s 1ms/step - loss: 0.3526 - accuracy: 0.8653 - val_loss: 0.3803 - val_accuracy: 0.8820\n",
      "Epoch 35/50\n",
      "8198/8198 [==============================] - 11s 1ms/step - loss: 0.3534 - accuracy: 0.8784 - val_loss: 0.4216 - val_accuracy: 0.8749\n",
      "Epoch 36/50\n",
      "8198/8198 [==============================] - 11s 1ms/step - loss: 0.3988 - accuracy: 0.8764 - val_loss: 0.3712 - val_accuracy: 0.8896\n",
      "Epoch 37/50\n",
      "8198/8198 [==============================] - 11s 1ms/step - loss: 0.3953 - accuracy: 0.8784 - val_loss: 0.5122 - val_accuracy: 0.8595\n",
      "Epoch 38/50\n",
      "8198/8198 [==============================] - 11s 1ms/step - loss: 0.3904 - accuracy: 0.8665 - val_loss: 0.3005 - val_accuracy: 0.8988\n",
      "Epoch 39/50\n",
      "8198/8198 [==============================] - 11s 1ms/step - loss: 0.3688 - accuracy: 0.8761 - val_loss: 0.3605 - val_accuracy: 0.8755\n",
      "Epoch 40/50\n",
      "8198/8198 [==============================] - 11s 1ms/step - loss: 0.3775 - accuracy: 0.8863 - val_loss: 0.4057 - val_accuracy: 0.8690\n",
      "Epoch 41/50\n",
      "8198/8198 [==============================] - 11s 1ms/step - loss: 0.3731 - accuracy: 0.8808 - val_loss: 0.3069 - val_accuracy: 0.9034\n",
      "Epoch 42/50\n",
      "8198/8198 [==============================] - 11s 1ms/step - loss: 0.3353 - accuracy: 0.8896 - val_loss: 0.3567 - val_accuracy: 0.8947\n",
      "Epoch 43/50\n",
      "8198/8198 [==============================] - 11s 1ms/step - loss: 0.3484 - accuracy: 0.8931 - val_loss: 0.3037 - val_accuracy: 0.8983\n",
      "Epoch 44/50\n",
      "8198/8198 [==============================] - 10s 1ms/step - loss: 0.3469 - accuracy: 0.8870 - val_loss: 0.3377 - val_accuracy: 0.8667\n",
      "Epoch 45/50\n",
      "8198/8198 [==============================] - 11s 1ms/step - loss: 0.3315 - accuracy: 0.8842 - val_loss: 0.3129 - val_accuracy: 0.8941\n",
      "Epoch 46/50\n",
      "8198/8198 [==============================] - 11s 1ms/step - loss: 0.3141 - accuracy: 0.8939 - val_loss: 0.3089 - val_accuracy: 0.8974\n",
      "Epoch 47/50\n",
      "8198/8198 [==============================] - 11s 1ms/step - loss: 0.3323 - accuracy: 0.8853 - val_loss: 0.3078 - val_accuracy: 0.8797\n",
      "Epoch 48/50\n",
      "8198/8198 [==============================] - 11s 1ms/step - loss: 0.3431 - accuracy: 0.8869 - val_loss: 0.3845 - val_accuracy: 0.8682\n",
      "Epoch 49/50\n",
      "8198/8198 [==============================] - 11s 1ms/step - loss: 0.3328 - accuracy: 0.8919 - val_loss: 0.3357 - val_accuracy: 0.9003\n",
      "Epoch 50/50\n",
      "8198/8198 [==============================] - 11s 1ms/step - loss: 0.3513 - accuracy: 0.8901 - val_loss: 0.3558 - val_accuracy: 0.8914\n"
     ]
    },
    {
     "data": {
      "text/plain": [
       "<tensorflow.python.keras.callbacks.History at 0x275b21fe5e0>"
      ]
     },
     "execution_count": 8,
     "metadata": {},
     "output_type": "execute_result"
    }
   ],
   "source": [
    "from tensorflow.keras.optimizers import SGD\n",
    "from tensorflow.keras.callbacks import TensorBoard\n",
    "from tensorflow.keras.callbacks import EarlyStopping\n",
    "\n",
    "model = keras. models.Sequential()\n",
    "model.add(keras.layers.Dense(21, activation =\"sigmoid\"))\n",
    "#model.add(keras.layers.Dense(300, activation =\"sigmoid\"))\n",
    "#model.add(keras.layers.Dense(300, activation =\"sigmoid\"))\n",
    "#model.add(keras.layers.Dense(300, activation =\"relu\"))\n",
    "#model.add(keras.layers.Dense(300, activation =\"sigmoid\"))\n",
    "model.add(keras.layers.Dense(8, activation = \"softmax\"))\n",
    "\n",
    "\n",
    "#Defining callbacks with ALR, Early stopping , Tensorboard\n",
    "early_stopping_monitor = EarlyStopping(patience=10)\n",
    "#callbacks_list = [early_stopping_monitor,tensorboard,lrate]\n",
    "#callbacks_list = [lrate]\n",
    "\n",
    "sgd = SGD(learning_rate=0.001)\n",
    "model.compile(optimizer='adam',\n",
    "              loss='sparse_categorical_crossentropy',\n",
    "              metrics=['accuracy'])\n",
    "\n",
    "X_train = X_train.astype('float32')\n",
    "y_train = y_train.astype('uint')\n",
    "X_val = X_val.astype('float32')\n",
    "y_val = y_val.astype('uint')\n",
    "\n",
    "#model.fit(X_train, y_train, batch_size=128, epochs=150, validation_data =(X_val,y_val) ,  callbacks =callbacks_list)\n",
    "model.fit(X_train, y_train, batch_size=128, epochs=100, validation_data =(X_val,y_val))"
   ]
  },
  {
   "cell_type": "code",
   "execution_count": 9,
   "metadata": {},
   "outputs": [
    {
     "name": "stdout",
     "output_type": "stream",
     "text": [
      "Accuracy: 0.890\n",
      "Misclassification Error: 0.110\n"
     ]
    }
   ],
   "source": [
    "X_test = X_test.astype('float32')\n",
    "y_test = y_test.astype('uint')\n",
    "\n",
    "\n",
    "loss, acc = model.evaluate(X_test, y_test, verbose=0)\n",
    "print('Accuracy: %.3f' % acc)\n",
    "err=1-acc\n",
    "print('Misclassification Error: %.3f' % err)\n"
   ]
  },
  {
   "cell_type": "code",
   "execution_count": 10,
   "metadata": {},
   "outputs": [
    {
     "name": "stdout",
     "output_type": "stream",
     "text": [
      "WARNING:tensorflow:From <ipython-input-10-65136d4c2778>:4: Sequential.predict_classes (from tensorflow.python.keras.engine.sequential) is deprecated and will be removed after 2021-01-01.\n",
      "Instructions for updating:\n",
      "Please use instead:* `np.argmax(model.predict(x), axis=-1)`,   if your model does multi-class classification   (e.g. if it uses a `softmax` last-layer activation).* `(model.predict(x) > 0.5).astype(\"int32\")`,   if your model does binary classification   (e.g. if it uses a `sigmoid` last-layer activation).\n",
      "Confusion Matrix\n",
      "[[605876  25684  14115  11847   2755    671    560      9]\n",
      " [  7535  27890     11   6016      0      0      0      0]\n",
      " [   532      0  12803      0      0      0      0      0]\n",
      " [  8246   4257      2  20647      0      0      0      0]\n",
      " [     0      0      0      0      0      0      0      0]\n",
      " [     0      0      0      0      0      0      0      0]\n",
      " [     0      0      0      0      0      0      0      0]\n",
      " [     0      0      0      0      0      0      0      0]]\n",
      "Classification Report\n"
     ]
    },
    {
     "name": "stderr",
     "output_type": "stream",
     "text": [
      "c:\\users\\rathi\\appdata\\local\\programs\\python\\python38\\lib\\site-packages\\sklearn\\metrics\\_classification.py:1221: UndefinedMetricWarning: Recall and F-score are ill-defined and being set to 0.0 in labels with no true samples. Use `zero_division` parameter to control this behavior.\n",
      "  _warn_prf(average, modifier, msg_start, len(result))\n"
     ]
    },
    {
     "name": "stdout",
     "output_type": "stream",
     "text": [
      "              precision    recall  f1-score   support\n",
      "\n",
      "           0       0.97      0.92      0.94    661517\n",
      "           1       0.48      0.67      0.56     41452\n",
      "           2       0.48      0.96      0.64     13335\n",
      "           3       0.54      0.62      0.58     33152\n",
      "           4       0.00      0.00      0.00         0\n",
      "           5       0.00      0.00      0.00         0\n",
      "           6       0.00      0.00      0.00         0\n",
      "           7       0.00      0.00      0.00         0\n",
      "\n",
      "    accuracy                           0.89    749456\n",
      "   macro avg       0.31      0.40      0.34    749456\n",
      "weighted avg       0.92      0.89      0.90    749456\n",
      "\n"
     ]
    }
   ],
   "source": [
    "from sklearn.metrics import classification_report, confusion_matrix\n",
    "\n",
    "y_proba = model.predict(X_test) \n",
    "y_pred = model.predict_classes(X_test)\n",
    "print('Confusion Matrix')\n",
    "print(confusion_matrix(y_pred, y_test))\n",
    "print('Classification Report')\n",
    "print(classification_report(y_pred, y_test))"
   ]
  },
  {
   "cell_type": "code",
   "execution_count": null,
   "metadata": {},
   "outputs": [],
   "source": []
  }
 ],
 "metadata": {
  "kernelspec": {
   "display_name": "Python 3",
   "language": "python",
   "name": "python3"
  },
  "language_info": {
   "codemirror_mode": {
    "name": "ipython",
    "version": 3
   },
   "file_extension": ".py",
   "mimetype": "text/x-python",
   "name": "python",
   "nbconvert_exporter": "python",
   "pygments_lexer": "ipython3",
   "version": "3.8.5"
  }
 },
 "nbformat": 4,
 "nbformat_minor": 4
}
