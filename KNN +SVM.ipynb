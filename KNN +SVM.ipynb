{
 "cells": [
  {
   "cell_type": "code",
   "execution_count": 1,
   "metadata": {},
   "outputs": [],
   "source": [
    "import pandas as pd\n",
    "import matplotlib.pyplot as plt\n",
    "import numpy as np\n",
    "%matplotlib inline\n",
    "import seaborn as sns\n",
    "# Importing the required packages \n",
    "import pandas as pd \n",
    "from sklearn.metrics import accuracy_score\n",
    "from sklearn.metrics import confusion_matrix\n",
    "from sklearn.model_selection import train_test_split\n",
    "from sklearn.ensemble import RandomForestClassifier"
   ]
  },
  {
   "cell_type": "code",
   "execution_count": 2,
   "metadata": {},
   "outputs": [],
   "source": [
    "KDDTrain = pd.read_csv('KDDTest+.csv')\n",
    "KDDTest = pd.read_csv('KDDTrain+.csv')\n"
   ]
  },
  {
   "cell_type": "code",
   "execution_count": 3,
   "metadata": {},
   "outputs": [],
   "source": [
    "mapping = {'ipsweep': 'Probe','satan': 'Probe','nmap': 'Probe','portsweep': 'Probe','saint': 'Probe','mscan': 'Probe',\n",
    "        'teardrop': 'DoS','pod': 'DoS','land': 'DoS','back': 'DoS','neptune': 'DoS','smurf': 'DoS','mailbomb': 'DoS',\n",
    "        'udpstorm': 'DoS','apache2': 'DoS','processtable': 'DoS',\n",
    "        'perl': 'U2R','loadmodule': 'U2R','rootkit': 'U2R','buffer_overflow': 'U2R','xterm': 'U2R','ps': 'U2R',\n",
    "        'sqlattack': 'U2R','httptunnel': 'U2R',\n",
    "        'ftp_write': 'R2L','phf': 'R2L','guess_passwd': 'R2L','warezmaster': 'R2L','warezclient': 'R2L','imap': 'R2L',\n",
    "        'spy': 'R2L','multihop': 'R2L','named': 'R2L','snmpguess': 'R2L','worm': 'R2L','snmpgetattack': 'R2L',\n",
    "        'xsnoop': 'R2L','xlock': 'R2L','sendmail': 'R2L',\n",
    "        'normal': 'Normal'\n",
    "        }"
   ]
  },
  {
   "cell_type": "code",
   "execution_count": 4,
   "metadata": {},
   "outputs": [],
   "source": [
    "# Apply attack class mappings to the dataset\n",
    "KDDTrain['attack_class'] = KDDTrain['labels'].apply(lambda v: mapping[v])\n",
    "KDDTest['attack_class'] = KDDTest['labels'].apply(lambda v: mapping[v])"
   ]
  },
  {
   "cell_type": "code",
   "execution_count": 5,
   "metadata": {},
   "outputs": [],
   "source": [
    "from sklearn.preprocessing import LabelEncoder\n",
    "le_protocol = LabelEncoder()\n",
    "le_service = LabelEncoder()\n",
    "le_flag = LabelEncoder()\n",
    "KDDTrain['protocol_type'] = le_protocol.fit_transform(KDDTrain.protocol_type)\n",
    "KDDTrain['service'] = le_protocol.fit_transform(KDDTrain.service)\n",
    "KDDTrain['flag'] = le_protocol.fit_transform(KDDTrain.flag)\n",
    "KDDTrain\n",
    "KDDTest['protocol_type'] = le_protocol.fit_transform(KDDTest.protocol_type)\n",
    "KDDTest['service'] = le_protocol.fit_transform(KDDTest.service)\n",
    "KDDTest['flag'] = le_protocol.fit_transform(KDDTest.flag)"
   ]
  },
  {
   "cell_type": "code",
   "execution_count": 6,
   "metadata": {},
   "outputs": [],
   "source": [
    "X_train = KDDTrain.iloc[:,0:40]  # All rows, omit last  2 column\n",
    "y_train = KDDTrain.iloc[:,42]# All rows, only the last column\n",
    "\n",
    "X_test = KDDTrain.iloc[:,0:40]  # All rows, omit last 2 column\n",
    "y_test = KDDTrain.iloc[:,42]# All rows, only the last column\n",
    "\n",
    "#  Predicting class attack"
   ]
  },
  {
   "cell_type": "markdown",
   "metadata": {},
   "source": [
    "### KNN"
   ]
  },
  {
   "cell_type": "code",
   "execution_count": 7,
   "metadata": {},
   "outputs": [],
   "source": [
    "from sklearn.neighbors import KNeighborsClassifier\n",
    "knn_model = KNeighborsClassifier()\n",
    "knn_model.fit(X_train,y_train)\n",
    "knn_prediction = knn_model.predict(X_test)"
   ]
  },
  {
   "cell_type": "code",
   "execution_count": 8,
   "metadata": {},
   "outputs": [
    {
     "name": "stdout",
     "output_type": "stream",
     "text": [
      "Accuracy score for KNN: 0.9764017033356991\n"
     ]
    }
   ],
   "source": [
    "print(\"Accuracy score for KNN:\",accuracy_score(y_test,knn_prediction))"
   ]
  },
  {
   "cell_type": "markdown",
   "metadata": {},
   "source": [
    "#### Predicting the actual labels"
   ]
  },
  {
   "cell_type": "code",
   "execution_count": 9,
   "metadata": {},
   "outputs": [],
   "source": [
    "X_train = KDDTrain.iloc[:,0:40]  # All rows, omit last 2 columns\n",
    "y_train = KDDTrain.iloc[:,41]# All rows, only the second last column\n",
    "\n",
    "X_test = KDDTrain.iloc[:,0:40]  # All rows, omit last 2 column\n",
    "y_test = KDDTrain.iloc[:,41]# All rows, only the second last  column\n",
    "\n",
    "### Predicting the actual labels"
   ]
  },
  {
   "cell_type": "code",
   "execution_count": 10,
   "metadata": {},
   "outputs": [],
   "source": [
    "knn_model = KNeighborsClassifier()\n",
    "knn_model.fit(X_train,y_train)\n",
    "knn_prediction = knn_model.predict(X_test)"
   ]
  },
  {
   "cell_type": "code",
   "execution_count": 11,
   "metadata": {},
   "outputs": [
    {
     "name": "stdout",
     "output_type": "stream",
     "text": [
      "Accuracy score for KNN: 0.970679559971611\n"
     ]
    }
   ],
   "source": [
    "print(\"Accuracy score for KNN:\",accuracy_score(y_test,knn_prediction))"
   ]
  },
  {
   "cell_type": "markdown",
   "metadata": {},
   "source": [
    "#### SVM"
   ]
  },
  {
   "cell_type": "code",
   "execution_count": 17,
   "metadata": {},
   "outputs": [],
   "source": [
    "X_train = KDDTrain.iloc[:,0:40]  # All rows, omit last  2 column\n",
    "y_train = KDDTrain.iloc[:,42]# All rows, only the last column\n",
    "\n",
    "X_test = KDDTrain.iloc[:,0:40]  # All rows, omit last 2 column\n",
    "y_test = KDDTrain.iloc[:,42]# All rows, only the last column\n",
    "\n",
    "#  Predicting class attack"
   ]
  },
  {
   "cell_type": "code",
   "execution_count": 18,
   "metadata": {},
   "outputs": [],
   "source": [
    "\n",
    "from sklearn.svm import SVC\n",
    "\n",
    "plf=SVC(random_state=0)"
   ]
  },
  {
   "cell_type": "code",
   "execution_count": 19,
   "metadata": {},
   "outputs": [
    {
     "data": {
      "text/plain": [
       "SVC(C=1.0, break_ties=False, cache_size=200, class_weight=None, coef0=0.0,\n",
       "    decision_function_shape='ovr', degree=3, gamma='scale', kernel='rbf',\n",
       "    max_iter=-1, probability=False, random_state=0, shrinking=True, tol=0.001,\n",
       "    verbose=False)"
      ]
     },
     "execution_count": 19,
     "metadata": {},
     "output_type": "execute_result"
    }
   ],
   "source": [
    "plf.fit(X_train, y_train)"
   ]
  },
  {
   "cell_type": "code",
   "execution_count": 20,
   "metadata": {},
   "outputs": [],
   "source": [
    "y_pred = plf.predict(X_test)"
   ]
  },
  {
   "cell_type": "code",
   "execution_count": 21,
   "metadata": {},
   "outputs": [
    {
     "name": "stdout",
     "output_type": "stream",
     "text": [
      "[[ 804 6654    0    0    0]\n",
      " [  59 9648    0    4    0]\n",
      " [   0 2421    0    0    0]\n",
      " [   7 2523    0  224    0]\n",
      " [   0  198    0    2    0]]\n"
     ]
    },
    {
     "name": "stderr",
     "output_type": "stream",
     "text": [
      "C:\\Users\\ninadgorey\\anaconda3\\lib\\site-packages\\sklearn\\metrics\\_classification.py:1272: UndefinedMetricWarning: Precision and F-score are ill-defined and being set to 0.0 in labels with no predicted samples. Use `zero_division` parameter to control this behavior.\n",
      "  _warn_prf(average, modifier, msg_start, len(result))\n"
     ]
    },
    {
     "name": "stdout",
     "output_type": "stream",
     "text": [
      "              precision    recall  f1-score   support\n",
      "\n",
      "         DoS       0.92      0.11      0.19      7458\n",
      "      Normal       0.45      0.99      0.62      9711\n",
      "       Probe       0.00      0.00      0.00      2421\n",
      "         R2L       0.97      0.08      0.15      2754\n",
      "         U2R       0.00      0.00      0.00       200\n",
      "\n",
      "    accuracy                           0.47     22544\n",
      "   macro avg       0.47      0.24      0.19     22544\n",
      "weighted avg       0.62      0.47      0.35     22544\n",
      "\n",
      "0.4735628105039035\n"
     ]
    }
   ],
   "source": [
    "from sklearn.metrics import classification_report, confusion_matrix, accuracy_score\n",
    "\n",
    "print(confusion_matrix(y_test,y_pred))  \n",
    "print(classification_report(y_test,y_pred))  \n",
    "print(accuracy_score(y_test, y_pred))"
   ]
  },
  {
   "cell_type": "code",
   "execution_count": 22,
   "metadata": {},
   "outputs": [
    {
     "name": "stdout",
     "output_type": "stream",
     "text": [
      "0.4735628105039035\n"
     ]
    }
   ],
   "source": [
    "print(accuracy_score(y_test, y_pred))"
   ]
  },
  {
   "cell_type": "markdown",
   "metadata": {},
   "source": [
    "### Logistic Regression"
   ]
  },
  {
   "cell_type": "code",
   "execution_count": 27,
   "metadata": {},
   "outputs": [],
   "source": [
    "from sklearn import preprocessing\n",
    "# Preprocess\n",
    "enc = preprocessing.OrdinalEncoder()\n",
    "\n",
    "encoded_dataset = enc.fit_transform(KDDTrain)  # All categorical features are now numerical\n",
    "X_train = encoded_dataset[:, :-2]  # All rows, omit last column\n",
    "y_train = np.ravel(encoded_dataset[:, -1:])  # All rows, only the last column"
   ]
  },
  {
   "cell_type": "code",
   "execution_count": 28,
   "metadata": {},
   "outputs": [],
   "source": [
    "# Repeat preprocessing for test data\n",
    "encoded_dataset = enc.fit_transform(KDDTest)\n",
    "X_test = encoded_dataset[:, :-2]\n",
    "y_test = np.ravel(encoded_dataset[:, -1:])\n"
   ]
  },
  {
   "cell_type": "code",
   "execution_count": 29,
   "metadata": {},
   "outputs": [],
   "source": [
    "from sklearn.linear_model import LogisticRegression"
   ]
  },
  {
   "cell_type": "code",
   "execution_count": 30,
   "metadata": {},
   "outputs": [
    {
     "name": "stderr",
     "output_type": "stream",
     "text": [
      "C:\\Users\\ninadgorey\\anaconda3\\lib\\site-packages\\sklearn\\linear_model\\_logistic.py:940: ConvergenceWarning: lbfgs failed to converge (status=1):\n",
      "STOP: TOTAL NO. of ITERATIONS REACHED LIMIT.\n",
      "\n",
      "Increase the number of iterations (max_iter) or scale the data as shown in:\n",
      "    https://scikit-learn.org/stable/modules/preprocessing.html\n",
      "Please also refer to the documentation for alternative solver options:\n",
      "    https://scikit-learn.org/stable/modules/linear_model.html#logistic-regression\n",
      "  extra_warning_msg=_LOGISTIC_SOLVER_CONVERGENCE_MSG)\n"
     ]
    },
    {
     "data": {
      "text/plain": [
       "LogisticRegression(C=1.0, class_weight=None, dual=False, fit_intercept=True,\n",
       "                   intercept_scaling=1, l1_ratio=None, max_iter=100,\n",
       "                   multi_class='auto', n_jobs=None, penalty='l2',\n",
       "                   random_state=0, solver='lbfgs', tol=0.0001, verbose=0,\n",
       "                   warm_start=False)"
      ]
     },
     "execution_count": 30,
     "metadata": {},
     "output_type": "execute_result"
    }
   ],
   "source": [
    "clf=LogisticRegression(random_state=0)\n",
    "\n",
    "clf.fit(X_train, y_train)"
   ]
  },
  {
   "cell_type": "code",
   "execution_count": 31,
   "metadata": {},
   "outputs": [],
   "source": [
    "y_pred = clf.predict(X_test)"
   ]
  },
  {
   "cell_type": "code",
   "execution_count": 32,
   "metadata": {},
   "outputs": [
    {
     "name": "stdout",
     "output_type": "stream",
     "text": [
      "0.8473085502448937\n"
     ]
    }
   ],
   "source": [
    "print(accuracy_score(y_test, y_pred))"
   ]
  },
  {
   "cell_type": "code",
   "execution_count": 33,
   "metadata": {},
   "outputs": [
    {
     "name": "stdout",
     "output_type": "stream",
     "text": [
      "[[42694  2403   777    53     0]\n",
      " [ 6058 55592  2541  2953   199]\n",
      " [ 1581  1496  7999   506    74]\n",
      " [  123   426     6   437     3]\n",
      " [    4    24     0     8    16]]\n",
      "              precision    recall  f1-score   support\n",
      "\n",
      "         0.0       0.85      0.93      0.89     45927\n",
      "         1.0       0.93      0.83      0.87     67343\n",
      "         2.0       0.71      0.69      0.70     11656\n",
      "         3.0       0.11      0.44      0.18       995\n",
      "         4.0       0.05      0.31      0.09        52\n",
      "\n",
      "    accuracy                           0.85    125973\n",
      "   macro avg       0.53      0.64      0.55    125973\n",
      "weighted avg       0.87      0.85      0.86    125973\n",
      "\n",
      "0.8473085502448937\n"
     ]
    }
   ],
   "source": [
    "print(confusion_matrix(y_test,y_pred))  \n",
    "print(classification_report(y_test,y_pred))  \n",
    "print(accuracy_score(y_test, y_pred))"
   ]
  },
  {
   "cell_type": "code",
   "execution_count": null,
   "metadata": {},
   "outputs": [],
   "source": []
  }
 ],
 "metadata": {
  "kernelspec": {
   "display_name": "Python 3",
   "language": "python",
   "name": "python3"
  },
  "language_info": {
   "codemirror_mode": {
    "name": "ipython",
    "version": 3
   },
   "file_extension": ".py",
   "mimetype": "text/x-python",
   "name": "python",
   "nbconvert_exporter": "python",
   "pygments_lexer": "ipython3",
   "version": "3.7.6"
  }
 },
 "nbformat": 4,
 "nbformat_minor": 4
}
